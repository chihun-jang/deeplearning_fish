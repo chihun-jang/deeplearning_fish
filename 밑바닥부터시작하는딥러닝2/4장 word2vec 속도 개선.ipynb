{
 "metadata": {
  "language_info": {
   "codemirror_mode": {
    "name": "ipython",
    "version": 3
   },
   "file_extension": ".py",
   "mimetype": "text/x-python",
   "name": "python",
   "nbconvert_exporter": "python",
   "pygments_lexer": "ipython3",
   "version": 3
  },
  "orig_nbformat": 2,
  "kernelspec": {
   "name": "python_defaultSpec_1596645412823",
   "display_name": "Python 3.7.2 64-bit"
  }
 },
 "nbformat": 4,
 "nbformat_minor": 2,
 "cells": [
  {
   "cell_type": "code",
   "execution_count": 2,
   "metadata": {},
   "outputs": [
    {
     "output_type": "execute_result",
     "data": {
      "text/plain": "array([[ 0,  1,  2],\n       [ 3,  4,  5],\n       [ 6,  7,  8],\n       [ 9, 10, 11],\n       [12, 13, 14],\n       [15, 16, 17],\n       [18, 19, 20]])"
     },
     "metadata": {},
     "execution_count": 2
    }
   ],
   "source": [
    "import numpy as np\n",
    "W = np.arange(21).reshape(7,3)\n",
    "W"
   ]
  },
  {
   "cell_type": "code",
   "execution_count": 3,
   "metadata": {},
   "outputs": [
    {
     "output_type": "execute_result",
     "data": {
      "text/plain": "array([6, 7, 8])"
     },
     "metadata": {},
     "execution_count": 3
    }
   ],
   "source": [
    "W[2]"
   ]
  },
  {
   "cell_type": "code",
   "execution_count": 4,
   "metadata": {},
   "outputs": [
    {
     "output_type": "execute_result",
     "data": {
      "text/plain": "array([[ 3,  4,  5],\n       [ 0,  1,  2],\n       [ 9, 10, 11],\n       [ 0,  1,  2]])"
     },
     "metadata": {},
     "execution_count": 4
    }
   ],
   "source": [
    "idx = np.array([1,0,3,0])\n",
    "W[idx]\n",
    "\n",
    "##여러행을 한번에 추출하기"
   ]
  },
  {
   "cell_type": "markdown",
   "metadata": {},
   "source": [
    "np.add.at(A,idx,B) 는 B를 A의 idx번째 행에 더해준다."
   ]
  },
  {
   "cell_type": "markdown",
   "metadata": {},
   "source": [
    "### 확률분포에 따라 샘플링할때 쓰는 np.random.choice()의 예시"
   ]
  },
  {
   "cell_type": "code",
   "execution_count": 11,
   "metadata": {
    "tags": []
   },
   "outputs": [
    {
     "output_type": "stream",
     "name": "stdout",
     "text": "7\n3\na\n['a' 'd']\n"
    }
   ],
   "source": [
    "print(np.random.choice(10)) #0~10까지 숫자중 무작위\n",
    "print(np.random.choice(10))\n",
    "\n",
    "words=['a','b','c','d']\n",
    "\n",
    "print(np.random.choice(words)) #words안에서 무작위 샘플링\n",
    "print(np.random.choice(words,size=2)) # 2개 샘플링 중복가능,\n",
    "print(np.random.choice(words,size=2, replace = False)) # 2개 샘플링 중복불가 중복가능,\n"
   ]
  },
  {
   "cell_type": "code",
   "execution_count": null,
   "metadata": {},
   "outputs": [],
   "source": []
  }
 ]
}